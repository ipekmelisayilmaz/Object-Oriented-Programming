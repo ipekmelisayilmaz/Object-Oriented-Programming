{
 "cells": [
  {
   "cell_type": "code",
   "execution_count": 41,
   "metadata": {},
   "outputs": [],
   "source": [
    "class Product :\n",
    "    def __init__(self,name:str=\"Default\",price:float=0,quantity:int=1) ->None:\n",
    "       print(f\"An instance with name:{name} has been derived from Product Class\")\n",
    "       \n",
    "       self.__name = name \n",
    "       self.__price = price\n",
    "       self.__quantity=quantity\n",
    "    @property   \n",
    "    def name(self):\n",
    "        return self.__name\n",
    "    @name.setter\n",
    "    def name(self,value:str) -> None:\n",
    "        self.__name = value\n",
    "    @property\n",
    "    def price(self):\n",
    "        return self.__price\n",
    "    @price.setter\n",
    "    def price(self,value):\n",
    "        self.__price = value\n",
    "    @property   \n",
    "    def quantity(self):\n",
    "        return self.__quantity\n",
    "    @quantity.setter\n",
    "    def quantity(self,value):\n",
    "        self.__quantity = value\n",
    "    def get_toal_price(self) ->float:\n",
    "        return self.__price * self.__quantity"
   ]
  },
  {
   "cell_type": "code",
   "execution_count": 42,
   "metadata": {},
   "outputs": [
    {
     "name": "stdout",
     "output_type": "stream",
     "text": [
      "An instance with name:Laptop has been derived from Product Class\n",
      "HP Laptop\n",
      "800.99\n",
      "4\n",
      "3203.96\n"
     ]
    }
   ],
   "source": [
    "item1 = Product(\"Laptop\",799.99,2)\n",
    "item1.name =\"HP Laptop\"\n",
    "item1.price = 800.99\n",
    "item1.quantity = 4\n",
    "\n",
    "print(item1.name)\n",
    "print(item1.price)\n",
    "print(item1.quantity)\n",
    "print(item1.get_toal_price())\n"
   ]
  },
  {
   "cell_type": "code",
   "execution_count": 43,
   "metadata": {},
   "outputs": [
    {
     "name": "stdout",
     "output_type": "stream",
     "text": [
      "An instance with name:Default has been derived from Product Class\n"
     ]
    }
   ],
   "source": [
    "item2 = Product()\n",
    "\n",
    "# dinamik özellik tanımı\n",
    "item2.__name = \"Computer\"\n",
    "item2.__price = 1999.99\n",
    "item2.__quantity = 3"
   ]
  },
  {
   "cell_type": "code",
   "execution_count": 44,
   "metadata": {},
   "outputs": [
    {
     "name": "stdout",
     "output_type": "stream",
     "text": [
      "Default\n",
      "0\n",
      "1\n"
     ]
    }
   ],
   "source": [
    "print(item2.name)\n",
    "print(item2.price)\n",
    "print(item2.quantity)"
   ]
  },
  {
   "cell_type": "code",
   "execution_count": 45,
   "metadata": {},
   "outputs": [
    {
     "name": "stdout",
     "output_type": "stream",
     "text": [
      "An instance with name:Keyboard has been derived from Product Class\n",
      "Keyboard\n",
      "25.99\n",
      "1\n"
     ]
    }
   ],
   "source": [
    "item3 = Product(\"Keyboard\",25.99)\n",
    "print(item3.name)\n",
    "print(item3.price)\n",
    "print(item3.quantity)\n"
   ]
  }
 ],
 "metadata": {
  "kernelspec": {
   "display_name": "Python 3",
   "language": "python",
   "name": "python3"
  },
  "language_info": {
   "codemirror_mode": {
    "name": "ipython",
    "version": 3
   },
   "file_extension": ".py",
   "mimetype": "text/x-python",
   "name": "python",
   "nbconvert_exporter": "python",
   "pygments_lexer": "ipython3",
   "version": "3.12.6"
  }
 },
 "nbformat": 4,
 "nbformat_minor": 2
}
