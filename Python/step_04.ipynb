{
 "cells": [
  {
   "cell_type": "code",
   "execution_count": 11,
   "metadata": {},
   "outputs": [],
   "source": [
    "class Product :\n",
    "    def __init__(self,name,price,quantity):\n",
    "       print(f\"An instance with name:{name} has been derived from Product Class\")\n",
    "       \n",
    "       self.__name = name \n",
    "       self.__price = price\n",
    "       self.__quantity=quantity\n",
    "    @property   \n",
    "    def name(self):\n",
    "        return self.__name\n",
    "    @name.setter\n",
    "    def name(self,value):\n",
    "        self.__name = value\n",
    "    @property\n",
    "    def price(self):\n",
    "        return self.__price\n",
    "    @price.setter\n",
    "    def price(self,value):\n",
    "        self.__price = value\n",
    "    @property   \n",
    "    def quantity(self):\n",
    "        return self.__quantity\n",
    "    @quantity.setter\n",
    "    def quantity(self,value):\n",
    "        self.__quantity = value"
   ]
  },
  {
   "cell_type": "code",
   "execution_count": null,
   "metadata": {},
   "outputs": [],
   "source": [
    "item1 = Product(\"Laptop\",799.99,2)\n",
    "item1.name =\"HP Laptop\"\n",
    "item1.price = 800.99\n",
    "item1.quantity = 4\n",
    "\n",
    "print(item1.name)\n",
    "print(item1.price)\n",
    "print(item1.quantity)\n",
    "\n"
   ]
  },
  {
   "cell_type": "code",
   "execution_count": null,
   "metadata": {},
   "outputs": [],
   "source": [
    "item2 = Product()\n",
    "\n",
    "# dinamik özellik tanımı\n",
    "item2.name = \"Computer\"\n",
    "item2.price = 1999.99\n",
    "item2.quantity = 3"
   ]
  }
 ],
 "metadata": {
  "kernelspec": {
   "display_name": "Python 3",
   "language": "python",
   "name": "python3"
  },
  "language_info": {
   "codemirror_mode": {
    "name": "ipython",
    "version": 3
   },
   "file_extension": ".py",
   "mimetype": "text/x-python",
   "name": "python",
   "nbconvert_exporter": "python",
   "pygments_lexer": "ipython3",
   "version": "3.12.6"
  }
 },
 "nbformat": 4,
 "nbformat_minor": 2
}
